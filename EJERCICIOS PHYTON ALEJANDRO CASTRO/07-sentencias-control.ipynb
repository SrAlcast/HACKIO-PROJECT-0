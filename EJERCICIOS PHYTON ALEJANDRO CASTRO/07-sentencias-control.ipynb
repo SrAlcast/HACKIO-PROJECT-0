{
 "cells": [
  {
   "cell_type": "markdown",
   "metadata": {},
   "source": [
    "<div style=\"text-align: center;\">\n",
    "  <img src=\"https://github.com/Hack-io-Data/Imagenes/blob/main/01-LogosHackio/logo_celeste@4x.png?raw=true\" alt=\"logo hack(io)\" />\n",
    "</div>"
   ]
  },
  {
   "cell_type": "markdown",
   "metadata": {},
   "source": [
    "#### 1. Escribe un programa que determine si un número es par o impar.\n",
    "\n"
   ]
  },
  {
   "cell_type": "code",
   "execution_count": 1,
   "metadata": {},
   "outputs": [
    {
     "name": "stdout",
     "output_type": "stream",
     "text": [
      "El número es par.\n"
     ]
    }
   ],
   "source": [
    "numero = int(input(\"Ingresa un número: \"))\n",
    "if numero % 2 == 0:\n",
    "    print(\"El número es par.\")\n",
    "else:\n",
    "    print(\"El número es impar.\")\n"
   ]
  },
  {
   "cell_type": "markdown",
   "metadata": {},
   "source": [
    "#### 2. Genera un programa que nos diga si es de noche, de día o tarde según la hora proporcionada por el usuario."
   ]
  },
  {
   "cell_type": "code",
   "execution_count": 4,
   "metadata": {},
   "outputs": [
    {
     "name": "stdout",
     "output_type": "stream",
     "text": [
      "Es de noche.\n"
     ]
    }
   ],
   "source": [
    "hora = int(input(\"Ingresa la hora (en formato 24 horas): \"))\n",
    "\n",
    "if 0 <= hora < 7:\n",
    "    print(\"Es de noche.\")\n",
    "elif 6 <= hora < 13:\n",
    "    print(\"Es de día.\")\n",
    "elif 12 <= hora < 20:\n",
    "    print(\"Es tarde.\")\n",
    "elif 18 <= hora < 24:\n",
    "    print(\"Es de noche.\")\n",
    "else:\n",
    "    print(\"Hora inválida.\")\n"
   ]
  },
  {
   "cell_type": "markdown",
   "metadata": {},
   "source": [
    "#### 3. Dado un nombre imprime un saludo personalizado."
   ]
  },
  {
   "cell_type": "code",
   "execution_count": 5,
   "metadata": {},
   "outputs": [
    {
     "name": "stdout",
     "output_type": "stream",
     "text": [
      "Hola, Alex! Como te va?\n"
     ]
    }
   ],
   "source": [
    "nombre = input(\"Ingresa un nombre: \")\n",
    "print(f\"Hola, {nombre}! Como te va?\")"
   ]
  },
  {
   "cell_type": "markdown",
   "metadata": {},
   "source": [
    "#### 4. Escribe un programa que determine qué calificación en texto tiene un alumno en base a su calificación numérica. Las reglas de calificación son: \n",
    "\n",
    "- 0 - 69 insuficiente\n",
    "\n",
    "- 70 - 79 bien\n",
    "\n",
    "- 80 - 89 muy bien\n",
    "\n",
    "- 90 - 100 excelente\n"
   ]
  },
  {
   "cell_type": "code",
   "execution_count": 12,
   "metadata": {},
   "outputs": [
    {
     "name": "stdout",
     "output_type": "stream",
     "text": [
      "Tu calificación es: muy bien\n"
     ]
    }
   ],
   "source": [
    "calificacion = int(input(\"Ingresa tu calificación (0-100): \"))\n",
    "\n",
    "if 0 <= calificacion <= 69:\n",
    "    resultado = \"insuficiente\"\n",
    "elif 70 <= calificacion <= 79:\n",
    "    resultado = \"bien\"\n",
    "elif 80 <= calificacion <= 89:\n",
    "    resultado = \"muy bien\"\n",
    "elif 90 <= calificacion <= 100:\n",
    "    resultado = \"excelente\"\n",
    "else:\n",
    "    resultado = \"calificación inválida\"\n",
    "\n",
    "print(f\"Tu calificación es: {resultado}\")\n"
   ]
  },
  {
   "cell_type": "markdown",
   "metadata": {},
   "source": [
    "#### 5. Escribe un programa que imprima el día de la semana, dado un número del 1 al 7.\n"
   ]
  },
  {
   "cell_type": "code",
   "execution_count": 13,
   "metadata": {},
   "outputs": [
    {
     "name": "stdout",
     "output_type": "stream",
     "text": [
      "El día de la semana es: Miércoles\n"
     ]
    }
   ],
   "source": [
    "numero = int(input(\"Ingresa un número del 1 al 7: \"))\n",
    "\n",
    "if numero == 1:\n",
    "    dia = \"Lunes\"\n",
    "elif numero == 2:\n",
    "    dia = \"Martes\"\n",
    "elif numero == 3:\n",
    "    dia = \"Miércoles\"\n",
    "elif numero == 4:\n",
    "    dia = \"Jueves\"\n",
    "elif numero == 5:\n",
    "    dia = \"Viernes\"\n",
    "elif numero == 6:\n",
    "    dia = \"Sábado\"\n",
    "elif numero == 7:\n",
    "    dia = \"Domingo\"\n",
    "else:\n",
    "    dia = \"Número inválido\"\n",
    "\n",
    "print(f\"El día de la semana es: {dia}\")\n"
   ]
  },
  {
   "cell_type": "markdown",
   "metadata": {},
   "source": [
    "#### 6. Escribe un programa que determine si un número es positivo, negativo o cero."
   ]
  },
  {
   "cell_type": "code",
   "execution_count": 15,
   "metadata": {},
   "outputs": [
    {
     "name": "stdout",
     "output_type": "stream",
     "text": [
      "El número es cero.\n"
     ]
    }
   ],
   "source": [
    "numero = float(input(\"Ingresa un número: \"))\n",
    "if numero > 0:\n",
    "    resultado = \"positivo\"\n",
    "elif numero < 0:\n",
    "    resultado = \"negativo\"\n",
    "else:\n",
    "    resultado = \"cero\"\n",
    "print(f\"El número es {resultado}.\")\n"
   ]
  },
  {
   "cell_type": "markdown",
   "metadata": {},
   "source": [
    "#### 7. Escribe un programa que determine si una persona puede conducir o no. La edad mínima para conducir es 18 años. \n"
   ]
  },
  {
   "cell_type": "code",
   "execution_count": 16,
   "metadata": {},
   "outputs": [
    {
     "name": "stdout",
     "output_type": "stream",
     "text": [
      "Puedes conducir.\n"
     ]
    }
   ],
   "source": [
    "edad = int(input(\"Ingresa tu edad: \"))\n",
    "if edad >= 18:\n",
    "    print(\"Puedes conducir.\")\n",
    "else:\n",
    "    print(\"No puedes conducir.\")\n"
   ]
  },
  {
   "cell_type": "markdown",
   "metadata": {},
   "source": [
    "#### 8. Escribe un programa que determine si un estudiante aprobó o suspendió un examen."
   ]
  },
  {
   "cell_type": "code",
   "execution_count": 20,
   "metadata": {},
   "outputs": [
    {
     "name": "stdout",
     "output_type": "stream",
     "text": [
      "Aprobado\n"
     ]
    }
   ],
   "source": [
    "calificacion = float(input(\"Introduce la calificación (entre 0 y 10): \"))\n",
    "\n",
    "if 0 <= calificacion <= 10:\n",
    "    if calificacion >= 5:\n",
    "        print(\"Aprobado\")\n",
    "    else:\n",
    "        print(\"Suspendido\")\n",
    "else:\n",
    "    print(\"La calificación debe estar entre 0 y 10.\")"
   ]
  },
  {
   "cell_type": "markdown",
   "metadata": {},
   "source": [
    "#### 9. Escribe un programa que determine si un número es múltiplo de 3 y 5.\n"
   ]
  },
  {
   "cell_type": "code",
   "execution_count": 20,
   "metadata": {},
   "outputs": [
    {
     "name": "stdout",
     "output_type": "stream",
     "text": [
      "El número es múltiplo de 3 y 5.\n"
     ]
    }
   ],
   "source": [
    "numero = int(input(\"Ingresa un número: \"))\n",
    "if numero % 3 == 0 and numero % 5 == 0:\n",
    "    print(\"El número es múltiplo de 3 y 5.\")\n",
    "else:\n",
    "    print(\"El número no es múltiplo de 3 y 5.\")\n"
   ]
  },
  {
   "cell_type": "markdown",
   "metadata": {},
   "source": [
    "#### 10. Escribe un programa que determine si un número es par o impar.\n"
   ]
  },
  {
   "cell_type": "code",
   "execution_count": 21,
   "metadata": {},
   "outputs": [
    {
     "name": "stdout",
     "output_type": "stream",
     "text": [
      "El número es par.\n"
     ]
    }
   ],
   "source": [
    "numero = int(input(\"Ingresa un número: \"))\n",
    "if numero % 2 == 0:\n",
    "    print(\"El número es par.\")\n",
    "else:\n",
    "    print(\"El número es impar.\")\n"
   ]
  }
 ],
 "metadata": {
  "kernelspec": {
   "display_name": "hackio",
   "language": "python",
   "name": "python3"
  },
  "language_info": {
   "codemirror_mode": {
    "name": "ipython",
    "version": 3
   },
   "file_extension": ".py",
   "mimetype": "text/x-python",
   "name": "python",
   "nbconvert_exporter": "python",
   "pygments_lexer": "ipython3",
   "version": "3.12.5"
  }
 },
 "nbformat": 4,
 "nbformat_minor": 2
}
