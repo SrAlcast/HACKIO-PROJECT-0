{
 "cells": [
  {
   "cell_type": "markdown",
   "metadata": {},
   "source": [
    "\n",
    "<div style=\"text-align: center;\">\n",
    "  <img src=\"https://github.com/Hack-io-Data/Imagenes/blob/main/01-LogosHackio/logo_celeste@4x.png?raw=true\" alt=\"esquema\" />\n",
    "</div>"
   ]
  },
  {
   "cell_type": "markdown",
   "metadata": {},
   "source": [
    "#### 1. Escribe una función sin parámetros que imprima el siguiente mensaje \"¡Hola! Bienvenido.\"\n"
   ]
  },
  {
   "cell_type": "code",
   "execution_count": 1,
   "metadata": {},
   "outputs": [
    {
     "name": "stdout",
     "output_type": "stream",
     "text": [
      "¡Hola! Bienvenido.\n"
     ]
    }
   ],
   "source": [
    "def saludo():\n",
    "    print(\"¡Hola! Bienvenido.\")\n",
    "\n",
    "saludo()"
   ]
  },
  {
   "cell_type": "markdown",
   "metadata": {},
   "source": [
    "#### 2. Escribe una función que reciba dos parámetros y devuelva la suma de ambos.\n"
   ]
  },
  {
   "cell_type": "code",
   "execution_count": 16,
   "metadata": {},
   "outputs": [
    {
     "name": "stdout",
     "output_type": "stream",
     "text": [
      "La suma es: 10\n"
     ]
    }
   ],
   "source": [
    "def suma(a, b):\n",
    "    return a + b\n",
    "\n",
    "a = int(input(\"Ingresa el primer número para sumar: \"))\n",
    "b = int(input(\"Ingresa el segundo número para sumar: \"))\n",
    "print(\"La suma es:\", suma(a, b))\n"
   ]
  },
  {
   "cell_type": "markdown",
   "metadata": {},
   "source": [
    "#### 3. Escribe una función que reciba un número y devuelva True si es par, False si no lo es."
   ]
  },
  {
   "cell_type": "code",
   "execution_count": 2,
   "metadata": {},
   "outputs": [
    {
     "name": "stdout",
     "output_type": "stream",
     "text": [
      "Es par: True\n"
     ]
    }
   ],
   "source": [
    "numero = int(input(\"Ingresa un número para verificar si es par: \"))\n",
    "\n",
    "def es_par(numero):\n",
    "    return numero % 2 == 0\n",
    "print(\"Es par:\", es_par(numero))\n"
   ]
  },
  {
   "cell_type": "markdown",
   "metadata": {},
   "source": [
    "#### 4. Escribe un función que devuelva un saludo personalizado a una persona dado su nombre. \n"
   ]
  },
  {
   "cell_type": "code",
   "execution_count": 3,
   "metadata": {},
   "outputs": [
    {
     "name": "stdout",
     "output_type": "stream",
     "text": [
      "Hola, Alex, Eres un crack!\n"
     ]
    }
   ],
   "source": [
    "nombre = input(\"Ingresa tu nombre: \")\n",
    "def saludo_personalizado(nombre):\n",
    "    return f\"Hola, {nombre}, Eres un crack!\"\n",
    "print(saludo_personalizado(nombre))"
   ]
  },
  {
   "cell_type": "markdown",
   "metadata": {},
   "source": [
    "#### 5. Escribe una función que sume todos los números que reciba como argumento. La función debe recibir una cantidad variable de argumentos y devolver la suma de todos ellos."
   ]
  },
  {
   "cell_type": "code",
   "execution_count": 19,
   "metadata": {},
   "outputs": [
    {
     "name": "stdout",
     "output_type": "stream",
     "text": [
      "La suma total es: 2\n"
     ]
    }
   ],
   "source": [
    "numeros = map(int, input(\"Ingresa números separados por espacio para sumar: \").split())\n",
    "def suma_total(*args):\n",
    "    return sum(args)\n",
    "print(\"La suma total es:\", suma_total(*numeros))"
   ]
  },
  {
   "cell_type": "markdown",
   "metadata": {},
   "source": [
    "#### 6. Escribe una función que cuente las letras de una palabra y devuelva un diccionario con la cantidad de veces que se repite cada letra \n"
   ]
  },
  {
   "cell_type": "code",
   "execution_count": 20,
   "metadata": {},
   "outputs": [
    {
     "name": "stdout",
     "output_type": "stream",
     "text": [
      "Conteo de letras: {'m': 1, 'u': 1, 'r': 1, 'c': 1, 'i': 1, 'e': 1, 'l': 1, 'a': 1, 'g': 1, 'o': 1}\n"
     ]
    }
   ],
   "source": [
    "palabra = input(\"Ingresa una palabra para contar las letras: \")\n",
    "def contar_letras(palabra):\n",
    "    conteo = {}\n",
    "    for letra in palabra:\n",
    "        if letra.isalpha():\n",
    "            letra = letra.lower()\n",
    "            if letra in conteo:\n",
    "                conteo[letra] += 1\n",
    "            else:\n",
    "                conteo[letra] = 1\n",
    "    return conteo\n",
    "print(\"Conteo de letras:\", contar_letras(palabra))"
   ]
  },
  {
   "cell_type": "markdown",
   "metadata": {},
   "source": [
    "#### 7. Escribe un función recursiva para calcular el factorial de un número entero no negativo."
   ]
  },
  {
   "cell_type": "code",
   "execution_count": 21,
   "metadata": {},
   "outputs": [
    {
     "name": "stdout",
     "output_type": "stream",
     "text": [
      "El factorial es: 281710411438055027694947944226061159480056634330574206405101912752560026159795933451040286452340924018275123200000000000000000000\n"
     ]
    }
   ],
   "source": [
    "n = int(input(\"Ingresa un número entero para calcular su factorial: \"))\n",
    "def factorial(n):\n",
    "    if n == 0:\n",
    "        return 1\n",
    "    else:\n",
    "        return n * factorial(n - 1)\n",
    "print(\"El factorial es:\", factorial(n))"
   ]
  },
  {
   "cell_type": "markdown",
   "metadata": {},
   "source": [
    "#### 8. Escribe una función que tome dos parámetros: `figura` (una cadena que puede ser `\"rectangulo\"`, `\"circulo\"` o `\"triangulo\"`) y `datos` (una tupla con los datos necesarios para calcular el área de la figura). "
   ]
  },
  {
   "cell_type": "code",
   "execution_count": 5,
   "metadata": {},
   "outputs": [
    {
     "name": "stdout",
     "output_type": "stream",
     "text": [
      "El área es: 20.0\n"
     ]
    }
   ],
   "source": [
    "figura = input(\"Ingresa la figura (rectangulo, circulo, triangulo): \")\n",
    "datos = tuple(map(float, input(\"Ingresa los datos necesarios separados por espacio (base/radio altura): \").split()))\n",
    "def calcular_area(figura, *datos):\n",
    "    if figura == \"rectangulo\":\n",
    "        base, altura = datos\n",
    "        return base * altura\n",
    "    elif figura == \"circulo\":\n",
    "        import math\n",
    "        radio, = datos\n",
    "        return math.pi * radio ** 2\n",
    "    elif figura == \"triangulo\":\n",
    "        base, altura = datos\n",
    "        return (base * altura) / 2\n",
    "    else:\n",
    "        return \"Figura no reconocida\"\n",
    "print(\"El área es:\", calcular_area(figura, *datos))"
   ]
  },
  {
   "cell_type": "markdown",
   "metadata": {},
   "source": [
    "#### 9. Escribe una función que tome una lista de números como parámetro y devuelva el número más grande de la lista. No utilices la función `max()` de Python en tu solución."
   ]
  },
  {
   "cell_type": "code",
   "execution_count": 23,
   "metadata": {},
   "outputs": [
    {
     "name": "stdout",
     "output_type": "stream",
     "text": [
      "El número máximo es: 22\n"
     ]
    }
   ],
   "source": [
    "def maximo(lista):\n",
    "    if not lista:\n",
    "        return None\n",
    "    maximo = lista[0]\n",
    "    for numero in lista:\n",
    "        if numero > maximo:\n",
    "            maximo = numero\n",
    "    return maximo\n",
    "\n",
    "lista = list(map(int, input(\"Ingresa números separados por espacio para encontrar el máximo: \").split()))\n",
    "print(\"El número máximo es:\", maximo(lista))\n"
   ]
  },
  {
   "cell_type": "markdown",
   "metadata": {},
   "source": [
    "#### 10. Escribe una función que tome una cadena como parámetro un texto y devuelva `True` si la cadena es un palíndromo (se lee igual de izquierda a derecha que de derecha a izquierda), y `False` en caso contrario. Ignora los espacios y considera mayúsculas y minúsculas de manera insensible.\n"
   ]
  },
  {
   "cell_type": "code",
   "execution_count": 27,
   "metadata": {},
   "outputs": [
    {
     "name": "stdout",
     "output_type": "stream",
     "text": [
      "Texto ingresado: Anita lava la tina\n",
      "¿Es un palíndromo? True\n"
     ]
    }
   ],
   "source": [
    "def es_palindromo(texto):\n",
    "    texto = texto.replace(\" \", \"\").lower()\n",
    "    return texto == texto[::-1]\n",
    "\n",
    "# Ejemplo\n",
    "texto = \"Anita lava la tina\"\n",
    "print(f\"Texto ingresado: {texto}\")\n",
    "print(f\"¿Es un palíndromo? {es_palindromo(texto)}\")\n"
   ]
  },
  {
   "cell_type": "markdown",
   "metadata": {},
   "source": [
    "#### 11. Escribe una función que tome una cadena como parámetro y devuelva dos valores: la cantidad de vocales y la cantidad de consonantes presentes en la cadena. Ignora los espacios y considera mayúsculas y minúsculas de manera insensible.\n"
   ]
  },
  {
   "cell_type": "code",
   "execution_count": 10,
   "metadata": {},
   "outputs": [
    {
     "name": "stdout",
     "output_type": "stream",
     "text": [
      "Texto ingresado: Quiero que el depor gane la liga\n",
      "Vocales: 14, Consonantes: 12\n"
     ]
    }
   ],
   "source": [
    "def contar_vocales_consonantes(texto):\n",
    "    vocales = \"aeiouAEIOU\" \n",
    "    conteo_vocales = 0\n",
    "    conteo_consonantes = 0\n",
    "    for caracter in texto:\n",
    "        if caracter in vocales:\n",
    "            conteo_vocales += 1\n",
    "        elif caracter.isalpha(): \n",
    "            conteo_consonantes += 1\n",
    "    return conteo_vocales, conteo_consonantes\n",
    "\n",
    "texto = input(\"Ingresa un texto para contar las vocales y consonantes: \")\n",
    "vocales, consonantes = contar_vocales_consonantes(texto)\n",
    "print(f\"Texto ingresado: {texto}\")\n",
    "print(f\"Vocales: {vocales}, Consonantes: {consonantes}\")"
   ]
  }
 ],
 "metadata": {
  "kernelspec": {
   "display_name": "hackio",
   "language": "python",
   "name": "python3"
  },
  "language_info": {
   "codemirror_mode": {
    "name": "ipython",
    "version": 3
   },
   "file_extension": ".py",
   "mimetype": "text/x-python",
   "name": "python",
   "nbconvert_exporter": "python",
   "pygments_lexer": "ipython3",
   "version": "3.12.5"
  }
 },
 "nbformat": 4,
 "nbformat_minor": 2
}
